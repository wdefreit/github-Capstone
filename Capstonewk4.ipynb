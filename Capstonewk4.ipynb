{
 "cells": [
  {
   "cell_type": "markdown",
   "metadata": {},
   "source": [
    "# Capstone Project"
   ]
  },
  {
   "cell_type": "markdown",
   "metadata": {},
   "source": [
    "##### Question 1. Clearly define a problem or an idea of your choice, where you would need to leverage the Foursquare location data to solve or execute. Remember that data science problems always target an audience and are meant to help a group of stakeholders solve a problem, so make sure that you explicitly describe your audience and why they would care about your problem."
   ]
  },
  {
   "cell_type": "markdown",
   "metadata": {},
   "source": [
    "##### Problem & Background"
   ]
  },
  {
   "cell_type": "markdown",
   "metadata": {},
   "source": [
    "Traffic in south Florida is horrible. Motor vehicle accidents are a leading cause of traffic. In 2018, the state, recorded 399,652 crashes statewide and 40,724 crashes in Broward county alone. Distracted driving is known to be correlated with traffic incidents and resulted in an almost national ban on texting and driving around 2009. \n",
    "\n",
    "This project will leverage the Foursquare location data to explore the extent to which venues such as fast food restaurants, coffee shops, or other takeout establishments contribute to traffic accidents in Broward County, Florida.  The working hypothesis is that more accidents take place closer to establishments where a person can purchase food and beverages and eat or drink while driving. \n",
    "\n",
    "The project will examine crash statistics from the Florida Department of Transportation in relation to venue data from Foursquare in order to test and explore the hypothesis. \n",
    "\n",
    "This project would be important to legislators in determining whether additional restrictions on eating and drinking while driving, as has been proposed, should be implemented. This information may also be of interest to venues in determining whether the characteristics of their take-out food and beverage items should change to reduce accidents. Thus, the audience for this project are legislators and entities that sell take-out food and beverage items.  \n"
   ]
  },
  {
   "cell_type": "markdown",
   "metadata": {},
   "source": [
    "##### Question 2. Describe the data that you will be using to solve the problem or execute your idea. Remember that you will need to use the Foursquare location data to solve the problem or execute your idea. You can absolutely use other datasets in combination with the Foursquare location data. So make sure that you provide adequate explanation and discussion, with examples, of the data that you will be using, even if it is only Foursquare location data."
   ]
  },
  {
   "cell_type": "markdown",
   "metadata": {},
   "source": [
    "##### Data Description & Problem Solving"
   ]
  },
  {
   "cell_type": "markdown",
   "metadata": {},
   "source": [
    "Two datasets will be used for this project. The first are crash statistics maintained by the Florida Department of Transportation for Broward County Florida. The data has been extracted by the government website into four CSV files and contains geocoding tags for longitude and latitude for each accident. \n",
    "\n",
    "The second will be venue data for the most popular establishments that sell take-out food and beverage items in Broward County, Florida. Anticipated search terms include gas stations, starbucks, duncan donuts, mcdonalds, burger king, etc. Depending on the amount of data returned, it may be necessary to reframe the Foursquare data to only establishments that have drive through windows.  \n",
    "\n",
    "The data will show whether the frequency of accidents cluster around any or within a particular radius of the venues.If it does not, then the call for further legislation should be abandoned. If it does, then we will try to further explore whether accidents occur more frequently around certain of these establishments. Perhaps, there are similarities or differences in the items people purchase that could be explored in subsequent projects.     \n"
   ]
  },
  {
   "cell_type": "code",
   "execution_count": null,
   "metadata": {},
   "outputs": [],
   "source": []
  }
 ],
 "metadata": {
  "kernelspec": {
   "display_name": "Python 3",
   "language": "python",
   "name": "python3"
  },
  "language_info": {
   "codemirror_mode": {
    "name": "ipython",
    "version": 3
   },
   "file_extension": ".py",
   "mimetype": "text/x-python",
   "name": "python",
   "nbconvert_exporter": "python",
   "pygments_lexer": "ipython3",
   "version": "3.7.1"
  }
 },
 "nbformat": 4,
 "nbformat_minor": 2
}
